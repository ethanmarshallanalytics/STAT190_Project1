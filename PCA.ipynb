{
  "nbformat": 4,
  "nbformat_minor": 0,
  "metadata": {
    "colab": {
      "provenance": [],
      "mount_file_id": "1zIyTZm_pLuKffRilib-Bjs3DzGtlIONT",
      "authorship_tag": "ABX9TyPo4ri+3pcxXI0kFiN0BI2r",
      "include_colab_link": true
    },
    "kernelspec": {
      "name": "python3",
      "display_name": "Python 3"
    },
    "language_info": {
      "name": "python"
    }
  },
  "cells": [
    {
      "cell_type": "markdown",
      "metadata": {
        "id": "view-in-github",
        "colab_type": "text"
      },
      "source": [
        "<a href=\"https://colab.research.google.com/github/ethanmarshallanalytics/STAT190_Project1/blob/main/PCA.ipynb\" target=\"_parent\"><img src=\"https://colab.research.google.com/assets/colab-badge.svg\" alt=\"Open In Colab\"/></a>"
      ]
    },
    {
      "cell_type": "code",
      "execution_count": 11,
      "metadata": {
        "id": "i7a1hATBAGYO",
        "colab": {
          "base_uri": "https://localhost:8080/"
        },
        "outputId": "7f4c1a5c-2e59-4824-bdc2-690821b4a385"
      },
      "outputs": [
        {
          "output_type": "stream",
          "name": "stdout",
          "text": [
            "Drive already mounted at /content/drive; to attempt to forcibly remount, call drive.mount(\"/content/drive\", force_remount=True).\n",
            "Index(['Turbine', 'Datetime', 'Date', 'Fault_Code', 'Status',\n",
            "       'Fault_Description', 'Fault_Type', 'Round_Time', 'Oil_Temp',\n",
            "       'prev_oil_temp', 'Generator_RPM', 'prev_generator_RPM', 'Wind_Speed',\n",
            "       'prev_wind_speed', 'Gearbox_Temp', 'prev_gearbox_temp', 'Active_Power',\n",
            "       'prev_active_power', 'Ambient_Temp', 'prev_ambient_temp',\n",
            "       'Hydraulic_Pressure', 'prev_hydraulic_pressure', 'Is_Fault'],\n",
            "      dtype='object')\n"
          ]
        }
      ],
      "source": [
        "# Principle Component Analysis\n",
        "from google.colab import drive\n",
        "import pandas\n",
        "from sklearn.neighbors import KNeighborsClassifier\n",
        "from sklearn.model_selection import train_test_split\n",
        "from sklearn.feature_selection import SelectKBest\n",
        "from sklearn.metrics import accuracy_score\n",
        "\n",
        "#load data\n",
        "drive.mount('/content/drive')\n",
        "data = pandas.read_csv('/content/drive/MyDrive/STAT 190/master_data.csv')\n",
        "print(data.columns)\n",
        "\n",
        "#C:/Users/ethan/"
      ]
    },
    {
      "cell_type": "code",
      "source": [
        "predictors = ['Turbine','Round_Time', 'prev_oil_temp', 'prev_generator_RPM',\n",
        "       'prev_wind_speed', 'prev_gearbox_temp', 'prev_active_power' 'prev_ambient_temp', 'prev_hydraulic_pressure']\n",
        "\n",
        "target = \"Is_Fault\"\n",
        "\n",
        "train_data, test_data, train_sln, test_sln = \\\n",
        "    train_test_split(data[predictors], data[target], test_size = 0.2, random_state=1)\n",
        "\n",
        "#whiten = True is important for uncorrelated\n",
        "#attributes, and is False by default\n",
        "extractor = PCA(n_components=2, whiten=True)\n",
        "#When fitting with PCA, you do not use the target column - this is an unsupervised learning algorithm\n",
        "extractor.fit(train_data)\n",
        "\n",
        "print('this is the variance/importance of each component')\n",
        "print(extractor.explained_variance_ratio_)"
      ],
      "metadata": {
        "id": "CJqWSSbspmgn"
      },
      "execution_count": null,
      "outputs": []
    }
  ]
}